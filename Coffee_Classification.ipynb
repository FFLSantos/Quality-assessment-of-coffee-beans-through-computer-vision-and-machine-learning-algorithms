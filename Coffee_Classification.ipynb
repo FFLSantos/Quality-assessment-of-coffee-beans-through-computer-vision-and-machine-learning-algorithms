{
 "cells": [
  {
   "cell_type": "markdown",
   "metadata": {},
   "source": [
    "# Extract the data from csv"
   ]
  },
  {
   "cell_type": "code",
   "execution_count": 24,
   "metadata": {},
   "outputs": [],
   "source": [
    "import numpy as np\n",
    "from sklearn import preprocessing\n",
    "import tensorflow as tf\n",
    "%matplotlib inline\n",
    "from sklearn.metrics import confusion_matrix\n",
    "import itertools\n",
    "import matplotlib.pyplot as plt\n",
    "\n",
    "raw_csv_data = np.loadtxt('Coffee.csv', delimiter=';')\n",
    "\n",
    "unscaled_inputs_all = raw_csv_data[:,0:15]\n",
    "targets_all = raw_csv_data[:,-1]"
   ]
  },
  {
   "cell_type": "markdown",
   "metadata": {},
   "source": [
    "# Standardize the inputs"
   ]
  },
  {
   "cell_type": "code",
   "execution_count": 25,
   "metadata": {},
   "outputs": [],
   "source": [
    "scaled_inputs = preprocessing.scale(unscaled_inputs_all)"
   ]
  },
  {
   "cell_type": "markdown",
   "metadata": {},
   "source": [
    "# Shuffle the data"
   ]
  },
  {
   "cell_type": "code",
   "execution_count": 26,
   "metadata": {},
   "outputs": [],
   "source": [
    "shuffled_indices=np.arange(scaled_inputs.shape[0])\n",
    "np.random.shuffle(shuffled_indices)\n",
    "\n",
    "shuffled_inputs = scaled_inputs[shuffled_indices]\n",
    "shuffled_targets = targets_all[shuffled_indices]"
   ]
  },
  {
   "cell_type": "markdown",
   "metadata": {},
   "source": [
    "# Split into Training, Validation and Test"
   ]
  },
  {
   "cell_type": "code",
   "execution_count": 27,
   "metadata": {},
   "outputs": [
    {
     "name": "stdout",
     "output_type": "stream",
     "text": [
      "1137.0 508 2.2381889763779528\n",
      "168.0 63 2.6666666666666665\n",
      "133.0 64 2.078125\n"
     ]
    }
   ],
   "source": [
    "samples_count = shuffled_inputs.shape[0]\n",
    "\n",
    "train_samples_count = int(0.8*samples_count)\n",
    "validation_samples_count = int(0.1*samples_count)\n",
    "test_samples_count = samples_count - train_samples_count - validation_samples_count\n",
    "\n",
    "train_inputs = shuffled_inputs[:train_samples_count]\n",
    "train_targets = shuffled_targets[:train_samples_count]\n",
    "\n",
    "validation_inputs = shuffled_inputs[train_samples_count:train_samples_count+validation_samples_count]\n",
    "validation_targets = shuffled_targets[train_samples_count:train_samples_count+validation_samples_count]\n",
    "\n",
    "test_inputs = shuffled_inputs[train_samples_count+validation_samples_count:]\n",
    "test_targets = shuffled_targets[train_samples_count+validation_samples_count:]\n",
    "\n",
    "print(np.sum(train_targets), train_samples_count, np.sum(train_targets)/train_samples_count)\n",
    "print(np.sum(validation_targets), validation_samples_count, np.sum(validation_targets)/validation_samples_count)\n",
    "print(np.sum(test_targets), test_samples_count, np.sum(test_targets)/test_samples_count)"
   ]
  },
  {
   "cell_type": "markdown",
   "metadata": {},
   "source": [
    "# Save the 3 datasets in *.npz"
   ]
  },
  {
   "cell_type": "code",
   "execution_count": 28,
   "metadata": {},
   "outputs": [],
   "source": [
    "np.savez('Coffee_data_train', inputs=train_inputs, targets=train_targets)\n",
    "np.savez('Coffee_data_validation', inputs=validation_inputs, targets=validation_targets)\n",
    "np.savez('Coffee_data_test', inputs=test_inputs, targets=test_targets)"
   ]
  },
  {
   "cell_type": "markdown",
   "metadata": {},
   "source": [
    "# Load Data"
   ]
  },
  {
   "cell_type": "code",
   "execution_count": 29,
   "metadata": {},
   "outputs": [],
   "source": [
    "npz = np.load('Coffee_data_train.npz')\n",
    "\n",
    "train_inputs, train_targets = npz['inputs'].astype(np.float), npz['targets'].astype(np.int)\n",
    "\n",
    "npz = np.load('Coffee_data_validation.npz')\n",
    "\n",
    "validation_inputs, validation_targets = npz['inputs'].astype(np.float), npz['targets'].astype(np.int)\n",
    "\n",
    "npz = np.load('Coffee_data_test.npz')\n",
    "\n",
    "test_inputs, test_targets = npz['inputs'].astype(np.float), npz['targets'].astype(np.int)"
   ]
  },
  {
   "cell_type": "markdown",
   "metadata": {},
   "source": [
    "# Model"
   ]
  },
  {
   "cell_type": "code",
   "execution_count": 50,
   "metadata": {},
   "outputs": [
    {
     "name": "stdout",
     "output_type": "stream",
     "text": [
      "Train on 508 samples, validate on 63 samples\n",
      "Epoch 1/100\n",
      "508/508 - 0s - loss: 1.6126 - accuracy: 0.3287 - val_loss: 1.6116 - val_accuracy: 0.3333\n",
      "Epoch 2/100\n",
      "508/508 - 0s - loss: 1.5645 - accuracy: 0.3366 - val_loss: 1.5582 - val_accuracy: 0.3333\n",
      "Epoch 3/100\n",
      "508/508 - 0s - loss: 1.5236 - accuracy: 0.3543 - val_loss: 1.5089 - val_accuracy: 0.3492\n",
      "Epoch 4/100\n",
      "508/508 - 0s - loss: 1.4865 - accuracy: 0.3701 - val_loss: 1.4634 - val_accuracy: 0.4286\n",
      "Epoch 5/100\n",
      "508/508 - 0s - loss: 1.4523 - accuracy: 0.3878 - val_loss: 1.4234 - val_accuracy: 0.4444\n",
      "Epoch 6/100\n",
      "508/508 - 0s - loss: 1.4201 - accuracy: 0.4193 - val_loss: 1.3872 - val_accuracy: 0.4762\n",
      "Epoch 7/100\n",
      "508/508 - 0s - loss: 1.3900 - accuracy: 0.4587 - val_loss: 1.3526 - val_accuracy: 0.5238\n",
      "Epoch 8/100\n",
      "508/508 - 0s - loss: 1.3602 - accuracy: 0.4921 - val_loss: 1.3192 - val_accuracy: 0.5714\n",
      "Epoch 9/100\n",
      "508/508 - 0s - loss: 1.3319 - accuracy: 0.5276 - val_loss: 1.2867 - val_accuracy: 0.6349\n",
      "Epoch 10/100\n",
      "508/508 - 0s - loss: 1.3062 - accuracy: 0.5630 - val_loss: 1.2570 - val_accuracy: 0.6825\n",
      "Epoch 11/100\n",
      "508/508 - 0s - loss: 1.2806 - accuracy: 0.5886 - val_loss: 1.2306 - val_accuracy: 0.7143\n",
      "Epoch 12/100\n",
      "508/508 - 0s - loss: 1.2571 - accuracy: 0.6024 - val_loss: 1.2045 - val_accuracy: 0.7302\n",
      "Epoch 13/100\n",
      "508/508 - 0s - loss: 1.2325 - accuracy: 0.6142 - val_loss: 1.1783 - val_accuracy: 0.7302\n",
      "Epoch 14/100\n",
      "508/508 - 0s - loss: 1.2092 - accuracy: 0.6240 - val_loss: 1.1526 - val_accuracy: 0.7302\n",
      "Epoch 15/100\n",
      "508/508 - 0s - loss: 1.1860 - accuracy: 0.6378 - val_loss: 1.1288 - val_accuracy: 0.7143\n",
      "Epoch 16/100\n",
      "508/508 - 0s - loss: 1.1630 - accuracy: 0.6496 - val_loss: 1.1062 - val_accuracy: 0.7460\n",
      "Epoch 17/100\n",
      "508/508 - 0s - loss: 1.1403 - accuracy: 0.6535 - val_loss: 1.0847 - val_accuracy: 0.7460\n",
      "Epoch 18/100\n",
      "508/508 - 0s - loss: 1.1186 - accuracy: 0.6535 - val_loss: 1.0649 - val_accuracy: 0.7302\n",
      "Epoch 19/100\n",
      "508/508 - 0s - loss: 1.0973 - accuracy: 0.6555 - val_loss: 1.0425 - val_accuracy: 0.7460\n",
      "Epoch 20/100\n",
      "508/508 - 0s - loss: 1.0762 - accuracy: 0.6614 - val_loss: 1.0205 - val_accuracy: 0.7460\n",
      "Epoch 21/100\n",
      "508/508 - 0s - loss: 1.0550 - accuracy: 0.6614 - val_loss: 0.9970 - val_accuracy: 0.7460\n",
      "Epoch 22/100\n",
      "508/508 - 0s - loss: 1.0345 - accuracy: 0.6693 - val_loss: 0.9738 - val_accuracy: 0.7460\n",
      "Epoch 23/100\n",
      "508/508 - 0s - loss: 1.0143 - accuracy: 0.6693 - val_loss: 0.9517 - val_accuracy: 0.7302\n",
      "Epoch 24/100\n",
      "508/508 - 0s - loss: 0.9939 - accuracy: 0.6693 - val_loss: 0.9322 - val_accuracy: 0.7302\n",
      "Epoch 25/100\n",
      "508/508 - 0s - loss: 0.9736 - accuracy: 0.6693 - val_loss: 0.9132 - val_accuracy: 0.7302\n",
      "Epoch 26/100\n",
      "508/508 - 0s - loss: 0.9535 - accuracy: 0.6713 - val_loss: 0.8933 - val_accuracy: 0.7460\n",
      "Epoch 27/100\n",
      "508/508 - 0s - loss: 0.9343 - accuracy: 0.6752 - val_loss: 0.8744 - val_accuracy: 0.7460\n",
      "Epoch 28/100\n",
      "508/508 - 0s - loss: 0.9160 - accuracy: 0.6752 - val_loss: 0.8556 - val_accuracy: 0.7460\n",
      "Epoch 29/100\n",
      "508/508 - 0s - loss: 0.8983 - accuracy: 0.6791 - val_loss: 0.8370 - val_accuracy: 0.7619\n",
      "Epoch 30/100\n",
      "508/508 - 0s - loss: 0.8805 - accuracy: 0.6811 - val_loss: 0.8192 - val_accuracy: 0.7619\n",
      "Epoch 31/100\n",
      "508/508 - 0s - loss: 0.8636 - accuracy: 0.6890 - val_loss: 0.8020 - val_accuracy: 0.7619\n",
      "Epoch 32/100\n",
      "508/508 - 0s - loss: 0.8463 - accuracy: 0.6929 - val_loss: 0.7871 - val_accuracy: 0.7619\n",
      "Epoch 33/100\n",
      "508/508 - 0s - loss: 0.8291 - accuracy: 0.7008 - val_loss: 0.7709 - val_accuracy: 0.7778\n",
      "Epoch 34/100\n",
      "508/508 - 0s - loss: 0.8127 - accuracy: 0.7067 - val_loss: 0.7552 - val_accuracy: 0.7778\n",
      "Epoch 35/100\n",
      "508/508 - 0s - loss: 0.7966 - accuracy: 0.7185 - val_loss: 0.7397 - val_accuracy: 0.7937\n",
      "Epoch 36/100\n",
      "508/508 - 0s - loss: 0.7809 - accuracy: 0.7224 - val_loss: 0.7239 - val_accuracy: 0.8254\n",
      "Epoch 37/100\n",
      "508/508 - 0s - loss: 0.7656 - accuracy: 0.7283 - val_loss: 0.7093 - val_accuracy: 0.8254\n",
      "Epoch 38/100\n",
      "508/508 - 0s - loss: 0.7504 - accuracy: 0.7303 - val_loss: 0.6959 - val_accuracy: 0.8254\n",
      "Epoch 39/100\n",
      "508/508 - 0s - loss: 0.7349 - accuracy: 0.7343 - val_loss: 0.6821 - val_accuracy: 0.8254\n",
      "Epoch 40/100\n",
      "508/508 - 0s - loss: 0.7200 - accuracy: 0.7441 - val_loss: 0.6684 - val_accuracy: 0.8413\n",
      "Epoch 41/100\n",
      "508/508 - 0s - loss: 0.7056 - accuracy: 0.7520 - val_loss: 0.6539 - val_accuracy: 0.8571\n",
      "Epoch 42/100\n",
      "508/508 - 0s - loss: 0.6914 - accuracy: 0.7657 - val_loss: 0.6396 - val_accuracy: 0.8571\n",
      "Epoch 43/100\n",
      "508/508 - 0s - loss: 0.6773 - accuracy: 0.7756 - val_loss: 0.6257 - val_accuracy: 0.8730\n",
      "Epoch 44/100\n",
      "508/508 - 0s - loss: 0.6631 - accuracy: 0.7795 - val_loss: 0.6116 - val_accuracy: 0.8730\n",
      "Epoch 45/100\n",
      "508/508 - 0s - loss: 0.6489 - accuracy: 0.7835 - val_loss: 0.5988 - val_accuracy: 0.8730\n",
      "Epoch 46/100\n",
      "508/508 - 0s - loss: 0.6350 - accuracy: 0.7933 - val_loss: 0.5847 - val_accuracy: 0.8730\n",
      "Epoch 47/100\n",
      "508/508 - 0s - loss: 0.6210 - accuracy: 0.7992 - val_loss: 0.5708 - val_accuracy: 0.8730\n",
      "Epoch 48/100\n",
      "508/508 - 0s - loss: 0.6073 - accuracy: 0.8031 - val_loss: 0.5578 - val_accuracy: 0.8730\n",
      "Epoch 49/100\n",
      "508/508 - 0s - loss: 0.5935 - accuracy: 0.8130 - val_loss: 0.5453 - val_accuracy: 0.8889\n",
      "Epoch 50/100\n",
      "508/508 - 0s - loss: 0.5803 - accuracy: 0.8150 - val_loss: 0.5328 - val_accuracy: 0.8889\n",
      "Epoch 51/100\n",
      "508/508 - 0s - loss: 0.5672 - accuracy: 0.8189 - val_loss: 0.5196 - val_accuracy: 0.9048\n",
      "Epoch 52/100\n",
      "508/508 - 0s - loss: 0.5543 - accuracy: 0.8248 - val_loss: 0.5067 - val_accuracy: 0.9048\n",
      "Epoch 53/100\n",
      "508/508 - 0s - loss: 0.5415 - accuracy: 0.8346 - val_loss: 0.4947 - val_accuracy: 0.9048\n",
      "Epoch 54/100\n",
      "508/508 - 0s - loss: 0.5292 - accuracy: 0.8386 - val_loss: 0.4824 - val_accuracy: 0.9048\n",
      "Epoch 55/100\n",
      "508/508 - 0s - loss: 0.5169 - accuracy: 0.8425 - val_loss: 0.4699 - val_accuracy: 0.9048\n",
      "Epoch 56/100\n",
      "508/508 - 0s - loss: 0.5042 - accuracy: 0.8465 - val_loss: 0.4585 - val_accuracy: 0.9048\n",
      "Epoch 57/100\n",
      "508/508 - 0s - loss: 0.4926 - accuracy: 0.8465 - val_loss: 0.4481 - val_accuracy: 0.9048\n",
      "Epoch 58/100\n",
      "508/508 - 0s - loss: 0.4814 - accuracy: 0.8484 - val_loss: 0.4387 - val_accuracy: 0.9048\n",
      "Epoch 59/100\n",
      "508/508 - 0s - loss: 0.4711 - accuracy: 0.8504 - val_loss: 0.4300 - val_accuracy: 0.9048\n",
      "Epoch 60/100\n",
      "508/508 - 0s - loss: 0.4610 - accuracy: 0.8543 - val_loss: 0.4216 - val_accuracy: 0.9048\n",
      "Epoch 61/100\n",
      "508/508 - 0s - loss: 0.4519 - accuracy: 0.8583 - val_loss: 0.4141 - val_accuracy: 0.9048\n",
      "Epoch 62/100\n",
      "508/508 - 0s - loss: 0.4433 - accuracy: 0.8583 - val_loss: 0.4072 - val_accuracy: 0.9048\n",
      "Epoch 63/100\n",
      "508/508 - 0s - loss: 0.4355 - accuracy: 0.8583 - val_loss: 0.4007 - val_accuracy: 0.9048\n",
      "Epoch 64/100\n",
      "508/508 - 0s - loss: 0.4281 - accuracy: 0.8583 - val_loss: 0.3947 - val_accuracy: 0.9048\n",
      "Epoch 65/100\n",
      "508/508 - 0s - loss: 0.4210 - accuracy: 0.8583 - val_loss: 0.3899 - val_accuracy: 0.9048\n",
      "Epoch 66/100\n",
      "508/508 - 0s - loss: 0.4137 - accuracy: 0.8563 - val_loss: 0.3850 - val_accuracy: 0.9048\n",
      "Epoch 67/100\n",
      "508/508 - 0s - loss: 0.4070 - accuracy: 0.8642 - val_loss: 0.3800 - val_accuracy: 0.8889\n",
      "Epoch 68/100\n",
      "508/508 - 0s - loss: 0.4005 - accuracy: 0.8701 - val_loss: 0.3744 - val_accuracy: 0.8889\n",
      "Epoch 69/100\n",
      "508/508 - 0s - loss: 0.3944 - accuracy: 0.8819 - val_loss: 0.3701 - val_accuracy: 0.9048\n",
      "Epoch 70/100\n",
      "508/508 - 0s - loss: 0.3889 - accuracy: 0.8799 - val_loss: 0.3662 - val_accuracy: 0.9048\n",
      "Epoch 71/100\n",
      "508/508 - 0s - loss: 0.3830 - accuracy: 0.8780 - val_loss: 0.3632 - val_accuracy: 0.8889\n",
      "Epoch 72/100\n",
      "508/508 - 0s - loss: 0.3778 - accuracy: 0.8799 - val_loss: 0.3602 - val_accuracy: 0.8889\n",
      "Epoch 73/100\n",
      "508/508 - 0s - loss: 0.3726 - accuracy: 0.8799 - val_loss: 0.3571 - val_accuracy: 0.8889\n",
      "Epoch 74/100\n",
      "508/508 - 0s - loss: 0.3677 - accuracy: 0.8799 - val_loss: 0.3541 - val_accuracy: 0.8889\n",
      "Epoch 75/100\n",
      "508/508 - 0s - loss: 0.3632 - accuracy: 0.8799 - val_loss: 0.3515 - val_accuracy: 0.8889\n",
      "Epoch 76/100\n",
      "508/508 - 0s - loss: 0.3592 - accuracy: 0.8819 - val_loss: 0.3494 - val_accuracy: 0.8889\n",
      "Epoch 77/100\n",
      "508/508 - 0s - loss: 0.3551 - accuracy: 0.8819 - val_loss: 0.3469 - val_accuracy: 0.8889\n",
      "Epoch 78/100\n",
      "508/508 - 0s - loss: 0.3510 - accuracy: 0.8799 - val_loss: 0.3445 - val_accuracy: 0.8889\n",
      "Epoch 79/100\n",
      "508/508 - 0s - loss: 0.3473 - accuracy: 0.8839 - val_loss: 0.3422 - val_accuracy: 0.8889\n",
      "Epoch 80/100\n",
      "508/508 - 0s - loss: 0.3440 - accuracy: 0.8839 - val_loss: 0.3402 - val_accuracy: 0.8889\n"
     ]
    },
    {
     "name": "stdout",
     "output_type": "stream",
     "text": [
      "Epoch 81/100\n",
      "508/508 - 0s - loss: 0.3407 - accuracy: 0.8858 - val_loss: 0.3378 - val_accuracy: 0.8889\n",
      "Epoch 82/100\n",
      "508/508 - 0s - loss: 0.3376 - accuracy: 0.8839 - val_loss: 0.3365 - val_accuracy: 0.9048\n",
      "Epoch 83/100\n",
      "508/508 - 0s - loss: 0.3350 - accuracy: 0.8839 - val_loss: 0.3351 - val_accuracy: 0.9048\n",
      "Epoch 84/100\n",
      "508/508 - 0s - loss: 0.3318 - accuracy: 0.8839 - val_loss: 0.3338 - val_accuracy: 0.9048\n",
      "Epoch 85/100\n",
      "508/508 - 0s - loss: 0.3300 - accuracy: 0.8839 - val_loss: 0.3329 - val_accuracy: 0.9048\n",
      "Epoch 86/100\n",
      "508/508 - 0s - loss: 0.3271 - accuracy: 0.8858 - val_loss: 0.3318 - val_accuracy: 0.9048\n",
      "Epoch 87/100\n",
      "508/508 - 0s - loss: 0.3249 - accuracy: 0.8898 - val_loss: 0.3295 - val_accuracy: 0.9048\n",
      "Epoch 88/100\n",
      "508/508 - 0s - loss: 0.3226 - accuracy: 0.8878 - val_loss: 0.3280 - val_accuracy: 0.9048\n",
      "Epoch 89/100\n",
      "508/508 - 0s - loss: 0.3203 - accuracy: 0.8898 - val_loss: 0.3269 - val_accuracy: 0.8889\n",
      "Epoch 90/100\n",
      "508/508 - 0s - loss: 0.3177 - accuracy: 0.8898 - val_loss: 0.3264 - val_accuracy: 0.8889\n",
      "Epoch 91/100\n",
      "508/508 - 0s - loss: 0.3154 - accuracy: 0.8898 - val_loss: 0.3255 - val_accuracy: 0.9048\n",
      "Epoch 92/100\n",
      "508/508 - 0s - loss: 0.3135 - accuracy: 0.8878 - val_loss: 0.3251 - val_accuracy: 0.9048\n",
      "Epoch 93/100\n",
      "508/508 - 0s - loss: 0.3114 - accuracy: 0.8898 - val_loss: 0.3246 - val_accuracy: 0.9048\n",
      "Epoch 94/100\n",
      "508/508 - 0s - loss: 0.3096 - accuracy: 0.8878 - val_loss: 0.3240 - val_accuracy: 0.9048\n",
      "Epoch 95/100\n",
      "508/508 - 0s - loss: 0.3078 - accuracy: 0.8878 - val_loss: 0.3237 - val_accuracy: 0.9048\n",
      "Epoch 96/100\n",
      "508/508 - 0s - loss: 0.3056 - accuracy: 0.8878 - val_loss: 0.3228 - val_accuracy: 0.9048\n",
      "Epoch 97/100\n",
      "508/508 - 0s - loss: 0.3035 - accuracy: 0.8878 - val_loss: 0.3220 - val_accuracy: 0.9048\n",
      "Epoch 98/100\n",
      "508/508 - 0s - loss: 0.3016 - accuracy: 0.8917 - val_loss: 0.3213 - val_accuracy: 0.9048\n",
      "Epoch 99/100\n",
      "508/508 - 0s - loss: 0.3000 - accuracy: 0.8937 - val_loss: 0.3206 - val_accuracy: 0.9048\n",
      "Epoch 100/100\n",
      "508/508 - 0s - loss: 0.2977 - accuracy: 0.8957 - val_loss: 0.3199 - val_accuracy: 0.9048\n"
     ]
    },
    {
     "data": {
      "text/plain": [
       "<tensorflow.python.keras.callbacks.History at 0x2dd1f023908>"
      ]
     },
     "execution_count": 50,
     "metadata": {},
     "output_type": "execute_result"
    }
   ],
   "source": [
    "input_size = 15\n",
    "output_size = 5\n",
    "hidden_layer_size = 6\n",
    "\n",
    "model = tf.keras.Sequential([\n",
    "                                tf.keras.layers.Dense(hidden_layer_size, activation='relu'),\n",
    "                                tf.keras.layers.Dense(hidden_layer_size, activation='relu'),\n",
    "                                tf.keras.layers.Dense(output_size, activation='softmax'),\n",
    "])\n",
    "\n",
    "model.compile(optimizer='adam', loss='sparse_categorical_crossentropy', metrics=['accuracy'])\n",
    "\n",
    "num_epochs = 100\n",
    "batch_size = 100\n",
    "early_stopping = tf.keras.callbacks.EarlyStopping(patience=2)\n",
    "\n",
    "model.fit(train_inputs, \n",
    "          train_targets, \n",
    "          batch_size = batch_size, \n",
    "          epochs = num_epochs, \n",
    "          callbacks=[early_stopping],\n",
    "          validation_data=(validation_inputs, validation_targets), \n",
    "          verbose=2)"
   ]
  },
  {
   "cell_type": "markdown",
   "metadata": {},
   "source": [
    "# Test Model"
   ]
  },
  {
   "cell_type": "code",
   "execution_count": 51,
   "metadata": {},
   "outputs": [
    {
     "name": "stdout",
     "output_type": "stream",
     "text": [
      "64/64 [==============================] - 0s 109us/sample - loss: 0.3830 - accuracy: 0.8125\n"
     ]
    }
   ],
   "source": [
    "test_loss, test_accuracy = model.evaluate(test_inputs, test_targets)\n"
   ]
  },
  {
   "cell_type": "code",
   "execution_count": 52,
   "metadata": {},
   "outputs": [
    {
     "name": "stdout",
     "output_type": "stream",
     "text": [
      "Test loss: 0.38. Test accuracy: 81.25%\n"
     ]
    }
   ],
   "source": [
    "print('Test loss: {0:.2f}. Test accuracy: {1:.2f}%'.format(test_loss, test_accuracy*100.))"
   ]
  },
  {
   "cell_type": "markdown",
   "metadata": {},
   "source": [
    "# Confusion Matrix"
   ]
  },
  {
   "cell_type": "code",
   "execution_count": 49,
   "metadata": {},
   "outputs": [],
   "source": [
    "rounded_predictions = model.predict_classes(test_inputs, batch_size = batch_size, verbose=0)\n",
    "\n",
    "cm = confusion_matrix(test_targets,rounded_predictions)\n",
    "\n",
    "def plot_confusion_matrix(cm, classes, normalize=False, title='Confusion Matrix',cmap=plt.cm.Blues):\n",
    "    plt.imshow(cm, interpolation='nearest', cmap=cmap)\n",
    "    plt.title(title)\n",
    "    plt.colorbar()\n",
    "    tick_marks=np.arange(lens(classes))\n",
    "    plt.xticks(tick_marks,classes,rotation=45)\n",
    "    plt.yticks(tick_marks,classes)\n",
    "    \n",
    "    if normalize:\n",
    "        cm=cm.astype('float')/cm.sum(axis=1)[:,np.newaxis]\n",
    "        print ('Normalized Confusion Matrix')\n",
    "    else:\n",
    "        print ('Confusion Matrix without normalization')\n",
    "    print(cm)\n",
    "    \n",
    "    thresh = cm.max()/2.\n",
    "    \n",
    "    for i,j in itertools.product(range(cm.shape[0]),range(cm.shape[1])):\n",
    "        plt.text(j,i,cm[i,j],horizontalalignment='center',color='white'if cm[i,j]>thresh else 'black')\n",
    "    plt.tight_layout()\n",
    "    plt.ylabel('True Label')\n",
    "    plt.xlabel('Predicted Label')\n"
   ]
  },
  {
   "cell_type": "code",
   "execution_count": 21,
   "metadata": {},
   "outputs": [
    {
     "ename": "NameError",
     "evalue": "name 'lens' is not defined",
     "output_type": "error",
     "traceback": [
      "\u001b[1;31m---------------------------------------------------------------------------\u001b[0m",
      "\u001b[1;31mNameError\u001b[0m                                 Traceback (most recent call last)",
      "\u001b[1;32m<ipython-input-21-ee0f58f911a4>\u001b[0m in \u001b[0;36m<module>\u001b[1;34m\u001b[0m\n\u001b[0;32m      1\u001b[0m \u001b[0mcm_plot_labels\u001b[0m \u001b[1;33m=\u001b[0m \u001b[1;33m[\u001b[0m\u001b[1;34m'no_side_effects'\u001b[0m\u001b[1;33m,\u001b[0m \u001b[1;34m'had_side_effects'\u001b[0m\u001b[1;33m]\u001b[0m\u001b[1;33m\u001b[0m\u001b[1;33m\u001b[0m\u001b[0m\n\u001b[1;32m----> 2\u001b[1;33m \u001b[0mplot_confusion_matrix\u001b[0m\u001b[1;33m(\u001b[0m\u001b[0mcm\u001b[0m\u001b[1;33m,\u001b[0m \u001b[0mcm_plot_labels\u001b[0m\u001b[1;33m,\u001b[0m \u001b[0mtitle\u001b[0m\u001b[1;33m=\u001b[0m\u001b[1;34m'Confusion Matrix'\u001b[0m\u001b[1;33m)\u001b[0m\u001b[1;33m\u001b[0m\u001b[1;33m\u001b[0m\u001b[0m\n\u001b[0m",
      "\u001b[1;32m<ipython-input-20-69022133155d>\u001b[0m in \u001b[0;36mplot_confusion_matrix\u001b[1;34m(cm, classes, normalize, title, cmap)\u001b[0m\n\u001b[0;32m      7\u001b[0m     \u001b[0mplt\u001b[0m\u001b[1;33m.\u001b[0m\u001b[0mtitle\u001b[0m\u001b[1;33m(\u001b[0m\u001b[0mtitle\u001b[0m\u001b[1;33m)\u001b[0m\u001b[1;33m\u001b[0m\u001b[1;33m\u001b[0m\u001b[0m\n\u001b[0;32m      8\u001b[0m     \u001b[0mplt\u001b[0m\u001b[1;33m.\u001b[0m\u001b[0mcolorbar\u001b[0m\u001b[1;33m(\u001b[0m\u001b[1;33m)\u001b[0m\u001b[1;33m\u001b[0m\u001b[1;33m\u001b[0m\u001b[0m\n\u001b[1;32m----> 9\u001b[1;33m     \u001b[0mtick_marks\u001b[0m\u001b[1;33m=\u001b[0m\u001b[0mnp\u001b[0m\u001b[1;33m.\u001b[0m\u001b[0marange\u001b[0m\u001b[1;33m(\u001b[0m\u001b[0mlens\u001b[0m\u001b[1;33m(\u001b[0m\u001b[0mclasses\u001b[0m\u001b[1;33m)\u001b[0m\u001b[1;33m)\u001b[0m\u001b[1;33m\u001b[0m\u001b[1;33m\u001b[0m\u001b[0m\n\u001b[0m\u001b[0;32m     10\u001b[0m     \u001b[0mplt\u001b[0m\u001b[1;33m.\u001b[0m\u001b[0mxticks\u001b[0m\u001b[1;33m(\u001b[0m\u001b[0mtick_marks\u001b[0m\u001b[1;33m,\u001b[0m\u001b[0mclasses\u001b[0m\u001b[1;33m,\u001b[0m\u001b[0mrotation\u001b[0m\u001b[1;33m=\u001b[0m\u001b[1;36m45\u001b[0m\u001b[1;33m)\u001b[0m\u001b[1;33m\u001b[0m\u001b[1;33m\u001b[0m\u001b[0m\n\u001b[0;32m     11\u001b[0m     \u001b[0mplt\u001b[0m\u001b[1;33m.\u001b[0m\u001b[0myticks\u001b[0m\u001b[1;33m(\u001b[0m\u001b[0mtick_marks\u001b[0m\u001b[1;33m,\u001b[0m\u001b[0mclasses\u001b[0m\u001b[1;33m)\u001b[0m\u001b[1;33m\u001b[0m\u001b[1;33m\u001b[0m\u001b[0m\n",
      "\u001b[1;31mNameError\u001b[0m: name 'lens' is not defined"
     ]
    },
    {
     "data": {
      "image/png": "[encoded data removed]",
      "text/plain": [
       "<Figure size 432x288 with 2 Axes>"
      ]
     },
     "metadata": {
      "needs_background": "light"
     },
     "output_type": "display_data"
    }
   ],
   "source": [
    "cm_plot_labels = ['no_side_effects', 'had_side_effects']\n",
    "plot_confusion_matrix(cm, cm_plot_labels, title='Confusion Matrix')"
   ]
  },
  {
   "cell_type": "code",
   "execution_count": null,
   "metadata": {},
   "outputs": [],
   "source": []
  }
 ],
 "metadata": {
  "kernelspec": {
   "display_name": "Python 3",
   "language": "python",
   "name": "python3"
  },
  "language_info": {
   "codemirror_mode": {
    "name": "ipython",
    "version": 3
   },
   "file_extension": ".py",
   "mimetype": "text/x-python",
   "name": "python",
   "nbconvert_exporter": "python",
   "pygments_lexer": "ipython3",
   "version": "3.8.5"
  }
 },
 "nbformat": 4,
 "nbformat_minor": 2
}
